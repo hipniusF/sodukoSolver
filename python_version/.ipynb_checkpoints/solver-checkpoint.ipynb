{
 "cells": [
  {
   "cell_type": "code",
   "execution_count": 1,
   "metadata": {},
   "outputs": [],
   "source": [
    "import random"
   ]
  },
  {
   "cell_type": "code",
   "execution_count": 2,
   "metadata": {},
   "outputs": [],
   "source": [
    "m = [[0, 8, 0, 7, 0, 1, 0, 3, 0],\n",
    "     [4, 0, 9, 0, 0, 0, 0, 0, 0],\n",
    "     [0, 5, 0, 0, 6, 0, 4, 1, 8],\n",
    "     [7, 0, 0, 0, 0, 9, 0, 0, 0],\n",
    "     [8, 0, 0, 6, 1, 0, 5, 0, 0],\n",
    "     [0, 3, 5, 0, 0, 0, 0, 2, 9],\n",
    "     [0, 6, 0, 4, 0, 7, 0, 9, 0],\n",
    "     [1, 0, 0, 0, 0, 8, 0, 0, 4],\n",
    "     [0, 2, 0, 0, 5, 0, 0, 7, 0],\n",
    "    ]"
   ]
  },
  {
   "cell_type": "code",
   "execution_count": 3,
   "metadata": {},
   "outputs": [],
   "source": [
    "def all_correct(m):\n",
    "    for row in m:\n",
    "        for item in row:\n",
    "            if item == 0:\n",
    "                return False\n",
    "            \n",
    "    return True"
   ]
  },
  {
   "cell_type": "code",
   "execution_count": 4,
   "metadata": {},
   "outputs": [],
   "source": [
    "def is_correct(m, i, j):\n",
    "    if m[i][j] in [x for w, x in enumerate(m[i]) if w != j]:\n",
    "        return False\n",
    "    \n",
    "    if m[i][j] in [m[x][j] for x in range(len(m)) if x != i]:\n",
    "        return False\n",
    "    \n",
    "    i0 = (i // 3) * 3\n",
    "    j0 = (j // 3) * 3\n",
    "    \n",
    "    for x in range(3):\n",
    "        for y in range(3):\n",
    "            if m[x + i0][y + j0] == m[i][j] and x + i0 != i and y + j0 != j:\n",
    "                return False\n",
    "    \n",
    "    if m[i][j] > 10:\n",
    "        return False\n",
    "    \n",
    "    return True"
   ]
  },
  {
   "cell_type": "code",
   "execution_count": 5,
   "metadata": {},
   "outputs": [],
   "source": [
    "def solve(m):\n",
    "    for i, row in enumerate(m):\n",
    "        for j, item in enumerate(row):\n",
    "            if m[i][j] == 0:\n",
    "                for x in range(1, 10):\n",
    "                    m[i][j] = x\n",
    "                    if is_correct(m, i, j):\n",
    "                        solve(m)\n",
    "                        if all_correct(m):\n",
    "                            break\n",
    "                            \n",
    "                else:\n",
    "                    m[i][j] = 0\n",
    "                    return m\n",
    "\n",
    "    return m"
   ]
  },
  {
   "cell_type": "code",
   "execution_count": 6,
   "metadata": {},
   "outputs": [],
   "source": [
    "def gen_solution(m):\n",
    "    \n",
    "    for i, row in enumerate(m):\n",
    "        for j, item in enumerate(row):\n",
    "            if m[i][j] == 0:\n",
    "                range_list = [1, 2, 3, 4, 5, 6, 7, 8, 9]\n",
    "                random.shuffle(range_list)\n",
    "                for x in range_list:\n",
    "                    m[i][j] = x\n",
    "                    if is_correct(m, i, j):\n",
    "                        gen_solution(m)\n",
    "                        if all_correct(m):\n",
    "                            break\n",
    "                            \n",
    "                else:\n",
    "                    m[i][j] = 0\n",
    "                    return m\n",
    "\n",
    "    return m"
   ]
  },
  {
   "cell_type": "code",
   "execution_count": 7,
   "metadata": {},
   "outputs": [],
   "source": [
    "def gen_puzzle_from_solution(m):\n",
    "    for x in range(2):\n",
    "        for i, row in enumerate(m):\n",
    "            for j, item in enumerate(row):\n",
    "                if random.random() < 0.40:\n",
    "                    m[i][j] = 0\n",
    "\n",
    "    return m\n"
   ]
  },
  {
   "cell_type": "code",
   "execution_count": 8,
   "metadata": {},
   "outputs": [
    {
     "data": {
      "text/plain": [
       "[[0, 0, 0, 5, 0, 7, 0, 4, 0],\n",
       " [0, 0, 0, 1, 0, 0, 6, 0, 0],\n",
       " [0, 5, 2, 0, 0, 0, 0, 9, 8],\n",
       " [0, 0, 6, 0, 0, 9, 0, 0, 0],\n",
       " [0, 0, 5, 0, 2, 1, 0, 0, 6],\n",
       " [0, 0, 0, 0, 6, 0, 0, 3, 0],\n",
       " [0, 0, 9, 0, 4, 0, 0, 0, 0],\n",
       " [0, 0, 0, 0, 7, 0, 0, 6, 0],\n",
       " [0, 0, 0, 9, 0, 6, 3, 0, 0]]"
      ]
     },
     "execution_count": 8,
     "metadata": {},
     "output_type": "execute_result"
    }
   ],
   "source": [
    "m0 = [[0 for i in range(9)] for j in range(9)]\n",
    "sol = gen_solution(m0)\n",
    "puzzle = gen_puzzle_from_solution(sol).copy()\n",
    "puzzle"
   ]
  },
  {
   "cell_type": "code",
   "execution_count": 9,
   "metadata": {},
   "outputs": [
    {
     "data": {
      "text/plain": [
       "[[2, 8, 6, 7, 4, 1, 9, 3, 5],\n",
       " [4, 1, 9, 3, 8, 5, 7, 6, 2],\n",
       " [3, 5, 7, 9, 6, 2, 4, 1, 8],\n",
       " [7, 4, 1, 5, 2, 9, 3, 8, 6],\n",
       " [8, 9, 2, 6, 1, 3, 5, 4, 7],\n",
       " [6, 3, 5, 8, 7, 4, 1, 2, 9],\n",
       " [5, 6, 8, 4, 3, 7, 2, 9, 1],\n",
       " [1, 7, 3, 2, 9, 8, 6, 5, 4],\n",
       " [9, 2, 4, 1, 5, 6, 8, 7, 3]]"
      ]
     },
     "execution_count": 9,
     "metadata": {},
     "output_type": "execute_result"
    }
   ],
   "source": [
    "solve(m)"
   ]
  }
 ],
 "metadata": {
  "kernelspec": {
   "display_name": "Python [conda env:root] *",
   "language": "python",
   "name": "conda-root-py"
  },
  "language_info": {
   "codemirror_mode": {
    "name": "ipython",
    "version": 3
   },
   "file_extension": ".py",
   "mimetype": "text/x-python",
   "name": "python",
   "nbconvert_exporter": "python",
   "pygments_lexer": "ipython3",
   "version": "3.7.6"
  }
 },
 "nbformat": 4,
 "nbformat_minor": 4
}
